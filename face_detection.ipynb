{
 "cells": [
  {
   "cell_type": "markdown",
   "metadata": {},
   "source": [
    "#### This complete project of face recognition requires two things:\n",
    "* To capture the images or frames from our webcam\n",
    "* Detect the human faces"
   ]
  },
  {
   "cell_type": "code",
   "execution_count": null,
   "metadata": {},
   "outputs": [],
   "source": [
    "pip install dlib"
   ]
  },
  {
   "cell_type": "code",
   "execution_count": 7,
   "metadata": {},
   "outputs": [
    {
     "name": "stdout",
     "output_type": "stream",
     "text": [
      "Requirement already satisfied: opencv-python in d:\\python3.11\\lib\\site-packages (4.8.1.78)\n",
      "Requirement already satisfied: numpy>=1.21.2 in d:\\python3.11\\lib\\site-packages (from opencv-python) (1.26.1)\n",
      "Note: you may need to restart the kernel to use updated packages.\n"
     ]
    }
   ],
   "source": [
    "pip install opencv-python"
   ]
  },
  {
   "cell_type": "code",
   "execution_count": null,
   "metadata": {},
   "outputs": [],
   "source": [
    "import cv2\n",
    "import dlib\n",
    "import numpy as np"
   ]
  },
  {
   "cell_type": "code",
   "execution_count": 5,
   "metadata": {},
   "outputs": [
    {
     "ename": "AttributeError",
     "evalue": "module 'dlib' has no attribute 'get_frontal_face_detector'",
     "output_type": "error",
     "traceback": [
      "\u001b[1;31m---------------------------------------------------------------------------\u001b[0m",
      "\u001b[1;31mAttributeError\u001b[0m                            Traceback (most recent call last)",
      "\u001b[1;32md:\\5 days 5 python Projects\\Face Recognition\\face_detection.ipynb Cell 4\u001b[0m line \u001b[0;36m6\n\u001b[0;32m      <a href='vscode-notebook-cell:/d%3A/5%20days%205%20python%20Projects/Face%20Recognition/face_detection.ipynb#W3sZmlsZQ%3D%3D?line=1'>2</a>\u001b[0m cap\u001b[39m=\u001b[39mcv2\u001b[39m.\u001b[39mVideoCapture(\u001b[39m0\u001b[39m)\n\u001b[0;32m      <a href='vscode-notebook-cell:/d%3A/5%20days%205%20python%20Projects/Face%20Recognition/face_detection.ipynb#W3sZmlsZQ%3D%3D?line=2'>3</a>\u001b[0m \u001b[39m# Here index 0 indicate the primary camera\u001b[39;00m\n\u001b[0;32m      <a href='vscode-notebook-cell:/d%3A/5%20days%205%20python%20Projects/Face%20Recognition/face_detection.ipynb#W3sZmlsZQ%3D%3D?line=3'>4</a>\u001b[0m \n\u001b[0;32m      <a href='vscode-notebook-cell:/d%3A/5%20days%205%20python%20Projects/Face%20Recognition/face_detection.ipynb#W3sZmlsZQ%3D%3D?line=4'>5</a>\u001b[0m \u001b[39m# face detector model\u001b[39;00m\n\u001b[1;32m----> <a href='vscode-notebook-cell:/d%3A/5%20days%205%20python%20Projects/Face%20Recognition/face_detection.ipynb#W3sZmlsZQ%3D%3D?line=5'>6</a>\u001b[0m face_detector\u001b[39m=\u001b[39mdlib\u001b[39m.\u001b[39;49mget_frontal_face_detector()\n\u001b[0;32m      <a href='vscode-notebook-cell:/d%3A/5%20days%205%20python%20Projects/Face%20Recognition/face_detection.ipynb#W3sZmlsZQ%3D%3D?line=7'>8</a>\u001b[0m \u001b[39m# capture frames continuously\u001b[39;00m\n\u001b[0;32m      <a href='vscode-notebook-cell:/d%3A/5%20days%205%20python%20Projects/Face%20Recognition/face_detection.ipynb#W3sZmlsZQ%3D%3D?line=8'>9</a>\u001b[0m \u001b[39mwhile\u001b[39;00m \u001b[39mTrue\u001b[39;00m:\n\u001b[0;32m     <a href='vscode-notebook-cell:/d%3A/5%20days%205%20python%20Projects/Face%20Recognition/face_detection.ipynb#W3sZmlsZQ%3D%3D?line=9'>10</a>\u001b[0m     \u001b[39m# ret -> true if you are able to read frame \u001b[39;00m\n",
      "\u001b[1;31mAttributeError\u001b[0m: module 'dlib' has no attribute 'get_frontal_face_detector'"
     ]
    }
   ],
   "source": [
    "# capture the frames from my primary camera\n",
    "cap=cv2.VideoCapture(0)\n",
    "# Here index 0 indicate the primary camera\n",
    "\n",
    "# face detector model\n",
    "face_detector=dlib.get_frontal_face_detector()\n",
    "\n",
    "# capture frames continuously\n",
    "while True:\n",
    "    # ret -> true if you are able to read frame \n",
    "    ret,frame=cap.read()\n",
    "    # 1 means vertically flip the image\n",
    "    frame=cv2.flip(frame,1)\n",
    "    # if not able to read frame\n",
    "    if ret==0:\n",
    "      break\n",
    "    # RGB to GRAYSCALE (to remove noise)\n",
    "    gray=cv2.cvtColor(frame,cv2.COLOR_BGR2GRAY)\n",
    "    faces=face_detector(gray)\n",
    "\n",
    "    # Iterate through all faces and draw rectangle around each face and numbered it\n",
    "    i=0\n",
    "    for face in faces:\n",
    "      # Find face coordinates\n",
    "      x,y=face.left(),face.top()\n",
    "      x1,y1=face.right(),face.bottom()\n",
    "\n",
    "      # make rectangle\n",
    "      cv2.rectangle(frame,(x,y),(x1,y1),(0,255,0),2)\n",
    "\n",
    "      i=i+1\n",
    "\n",
    "      cv2.putText(frame,\"Face num\"+str(i),(x-10,y-10),cv2.FONT_HERSHEY_SIMPLEX,0.7,(0,0,255),2)\n",
    "\n",
    "    cv2.imshow('Frame',frame)\n",
    "\n",
    "    # Code to come our of infinite loop / interrupt the execution\n",
    "    if(cv2.waitKey(1) & 0xFF==ord('q')):\n",
    "      break\n",
    "\n",
    "cap.release()\n",
    "cv2.destroyAllWindows()"
   ]
  },
  {
   "cell_type": "code",
   "execution_count": null,
   "metadata": {},
   "outputs": [],
   "source": []
  }
 ],
 "metadata": {
  "kernelspec": {
   "display_name": "Python 3",
   "language": "python",
   "name": "python3"
  },
  "language_info": {
   "codemirror_mode": {
    "name": "ipython",
    "version": 3
   },
   "file_extension": ".py",
   "mimetype": "text/x-python",
   "name": "python",
   "nbconvert_exporter": "python",
   "pygments_lexer": "ipython3",
   "version": "3.11.2"
  }
 },
 "nbformat": 4,
 "nbformat_minor": 2
}
